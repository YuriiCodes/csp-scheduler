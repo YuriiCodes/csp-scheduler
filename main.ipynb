{
 "cells": [
  {
   "cell_type": "code",
   "id": "initial_id",
   "metadata": {
    "collapsed": true,
    "ExecuteTime": {
     "end_time": "2024-11-21T22:04:45.223162Z",
     "start_time": "2024-11-21T22:04:45.216130Z"
    }
   },
   "source": [
    "# Змінні\n",
    "variables = [\"lecturer\", \"classroom\", \"group\", \"time\"]\n",
    "\n",
    "# Області визначення\n",
    "domains = {\n",
    "    \"lecturer\": [\"Ivanov\", \"Petrov\", \"Sidorov\"],\n",
    "    \"time\": [\"Monday 9:00\", \"Monday 11:00\", \"Tuesday 9:00\", \"Tuesday 11:00\"],\n",
    "    \"classroom\": [\"Room 101\", \"Room 102\", \"Room 103\"],\n",
    "    \"group\": [\"Group A\", \"Group B\", \"Group C\"],\n",
    "}\n",
    "\n",
    "\n",
    "# Обмеження\n",
    "constraints = [\n",
    "    # Викладач не може проводити більше однієї лекції одночасно\n",
    "    {\n",
    "        \"vars\": (\"lecturer\", \"time\"),\n",
    "        \"predicate\": lambda events, l, t: sum(\n",
    "            e.get(\"lecturer\") == l and e.get(\"time\") == t for e in events\n",
    "        ) <= 1,\n",
    "    },\n",
    "    # Група не може бути присутньою на кількох лекціях одночасно\n",
    "    {\n",
    "        \"vars\": (\"group\", \"time\"),\n",
    "        \"predicate\": lambda events, g, t: sum(\n",
    "            e.get(\"group\") == g and e.get(\"time\") == t for e in events\n",
    "        ) <= 1,\n",
    "    },\n",
    "    # Одна аудиторія не може використовуватись для кількох лекцій одночасно\n",
    "    {\n",
    "        \"vars\": (\"classroom\", \"time\"),\n",
    "        \"predicate\": lambda events, r, t: sum(\n",
    "            e.get(\"classroom\") == r and e.get(\"time\") == t for e in events\n",
    "        ) <= 1,\n",
    "    },\n",
    "    # Викладач має бути закріплений за певною групою\n",
    "    {\n",
    "        \"vars\": (\"lecturer\", \"group\"),\n",
    "        \"predicate\": lambda events, l, g: (l, g) in [\n",
    "            (\"Ivanov\", \"Group A\"),\n",
    "            (\"Petrov\", \"Group B\"),\n",
    "            (\"Sidorov\", \"Group C\"),\n",
    "        ],\n",
    "    },\n",
    "]\n",
    "\n",
    "\n"
   ],
   "outputs": [],
   "execution_count": 31
  },
  {
   "metadata": {
    "ExecuteTime": {
     "end_time": "2024-11-21T22:04:45.235343Z",
     "start_time": "2024-11-21T22:04:45.231127Z"
    }
   },
   "cell_type": "code",
   "source": [
    "from csp import CSP\n",
    "\n",
    "\n",
    "# Ініціалізація CSP\n",
    "csp = CSP(variables, domains, constraints)\n",
    "\n",
    "# Генерація розкладу\n",
    "solution = csp.backtracking_search()\n",
    "\n",
    "# Вивід результату\n",
    "if solution:\n",
    "    print(\"Розклад знайдено:\")\n",
    "    for assignment in solution:\n",
    "        print(assignment)\n",
    "else:\n",
    "    print(\"Розклад не знайдено.\")\n"
   ],
   "id": "d99fa8319af6f8b4",
   "outputs": [
    {
     "name": "stdout",
     "output_type": "stream",
     "text": [
      "Розклад знайдено:\n",
      "{'lecturer': 'Ivanov'}\n",
      "{'classroom': 'Room 101'}\n",
      "{'group': 'Group A'}\n",
      "{'time': 'Monday 9:00'}\n"
     ]
    }
   ],
   "execution_count": 32
  },
  {
   "metadata": {
    "ExecuteTime": {
     "end_time": "2024-11-21T22:04:45.248294Z",
     "start_time": "2024-11-21T22:04:45.246500Z"
    }
   },
   "cell_type": "code",
   "source": "",
   "id": "38366d3337a894f",
   "outputs": [],
   "execution_count": null
  }
 ],
 "metadata": {
  "kernelspec": {
   "display_name": "Python 3",
   "language": "python",
   "name": "python3"
  },
  "language_info": {
   "codemirror_mode": {
    "name": "ipython",
    "version": 2
   },
   "file_extension": ".py",
   "mimetype": "text/x-python",
   "name": "python",
   "nbconvert_exporter": "python",
   "pygments_lexer": "ipython2",
   "version": "2.7.6"
  }
 },
 "nbformat": 4,
 "nbformat_minor": 5
}
