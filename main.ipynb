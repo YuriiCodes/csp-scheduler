{
 "cells": [
  {
   "cell_type": "code",
   "id": "initial_id",
   "metadata": {
    "collapsed": true,
    "ExecuteTime": {
     "end_time": "2024-11-21T21:50:08.533108Z",
     "start_time": "2024-11-21T21:50:08.522976Z"
    }
   },
   "source": [
    "# Змінні, що будуть використовуватись у розкладі\n",
    "variables = [\"lecturer\", \"time\", \"classroom\", \"group\"]\n",
    "\n",
    "# Області визначення (Di) для кожної змінної\n",
    "domains = {\n",
    "    \"lecturer\": [\"Ivanov\", \"Petrov\", \"Sidorov\"],\n",
    "    \"time\": [\"Monday 9:00\", \"Monday 11:00\", \"Tuesday 9:00\", \"Tuesday 11:00\"],\n",
    "    \"classroom\": [\"Room 101\", \"Room 102\", \"Room 103\"],\n",
    "    \"group\": [\"Group A\", \"Group B\", \"Group C\"],\n",
    "}\n",
    "\n",
    "constraints = [\n",
    "    # Викладач не може проводити більше однієї лекції одночасно\n",
    "    {\n",
    "        \"vars\": (\"lecturer\", \"time\"),\n",
    "        \"predicate\": lambda events, l, t: sum(\n",
    "            1 for e in events if e.get(\"lecturer\") == l and e.get(\"time\") == t\n",
    "        ) <= 1,\n",
    "    },\n",
    "    # Група не може бути в двох місцях одночасно\n",
    "    {\n",
    "        \"vars\": (\"group\", \"time\"),\n",
    "        \"predicate\": lambda events, g, t: sum(\n",
    "            1 for e in events if e.get(\"group\") == g and e.get(\"time\") == t\n",
    "        ) <= 1,\n",
    "    },\n",
    "    # Одна аудиторія не може використовуватись одночасно двома різними групами\n",
    "    {\n",
    "        \"vars\": (\"classroom\", \"time\"),\n",
    "        \"predicate\": lambda events, r, t: sum(\n",
    "            1 for e in events if e.get(\"classroom\") == r and e.get(\"time\") == t\n",
    "        ) <= 1,\n",
    "    },\n",
    "    # Викладач має бути закріплений за певною групою\n",
    "    {\n",
    "        \"vars\": (\"lecturer\", \"group\"),\n",
    "        \"predicate\": lambda events, l, g: (l, g) in [\n",
    "            (\"Ivanov\", \"Group A\"),\n",
    "            (\"Petrov\", \"Group B\"),\n",
    "            (\"Sidorov\", \"Group C\"),\n",
    "        ],\n",
    "    },\n",
    "]\n",
    "\n"
   ],
   "outputs": [],
   "execution_count": 18
  },
  {
   "metadata": {
    "ExecuteTime": {
     "end_time": "2024-11-21T21:50:08.549545Z",
     "start_time": "2024-11-21T21:50:08.545130Z"
    }
   },
   "cell_type": "code",
   "source": [
    "from csp import CSP\n",
    "\n",
    "# Ініціалізація CSP\n",
    "csp = CSP(variables, domains, constraints)\n",
    "\n",
    "# Запуск пошуку\n",
    "solution = csp.backtracking_search()\n",
    "\n",
    "if solution:\n",
    "    print(\"Розклад знайдено:\")\n",
    "    for assignment in solution:\n",
    "        print(assignment)\n",
    "else:\n",
    "    print(\"Розклад не знайдено.\")\n",
    "\n"
   ],
   "id": "d99fa8319af6f8b4",
   "outputs": [
    {
     "name": "stdout",
     "output_type": "stream",
     "text": [
      "Розклад знайдено:\n",
      "{'lecturer': 'Ivanov'}\n",
      "{'classroom': 'Room 101'}\n",
      "{'group': 'Group A'}\n",
      "{'time': 'Monday 9:00'}\n"
     ]
    }
   ],
   "execution_count": 19
  }
 ],
 "metadata": {
  "kernelspec": {
   "display_name": "Python 3",
   "language": "python",
   "name": "python3"
  },
  "language_info": {
   "codemirror_mode": {
    "name": "ipython",
    "version": 2
   },
   "file_extension": ".py",
   "mimetype": "text/x-python",
   "name": "python",
   "nbconvert_exporter": "python",
   "pygments_lexer": "ipython2",
   "version": "2.7.6"
  }
 },
 "nbformat": 4,
 "nbformat_minor": 5
}
